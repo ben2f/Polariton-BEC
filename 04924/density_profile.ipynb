{
 "cells": [
  {
   "cell_type": "code",
   "execution_count": 51,
   "id": "3c2f910f-2da1-4833-b5cd-140cf7828ba0",
   "metadata": {},
   "outputs": [],
   "source": [
    "from numpy import *\n",
    "from matplotlib import *\n",
    "from pylab import *\n",
    "import pandas as pd\n",
    "from tqdm import tqdm_notebook as tqdm"
   ]
  },
  {
   "cell_type": "code",
   "execution_count": 52,
   "id": "a0371fe1-ca4c-4d17-9db8-ab201f16dbb5",
   "metadata": {},
   "outputs": [],
   "source": [
    "#df = pd.read_csv(\"dynamics-output.txt\" , sep='\\\\s+', header=None)"
   ]
  },
  {
   "cell_type": "code",
   "execution_count": 53,
   "id": "2cac46e8-fb9c-42b6-81c9-6925a01ecb21",
   "metadata": {},
   "outputs": [],
   "source": [
    "df = pd.read_csv(\"DYNAMICS1.txt\" , sep='\\\\s+', header=None)"
   ]
  },
  {
   "cell_type": "code",
   "execution_count": 54,
   "id": "166ec4df-41d4-48b1-b9ff-f7fa12066425",
   "metadata": {},
   "outputs": [
    {
     "data": {
      "text/html": [
       "<div>\n",
       "<style scoped>\n",
       "    .dataframe tbody tr th:only-of-type {\n",
       "        vertical-align: middle;\n",
       "    }\n",
       "\n",
       "    .dataframe tbody tr th {\n",
       "        vertical-align: top;\n",
       "    }\n",
       "\n",
       "    .dataframe thead th {\n",
       "        text-align: right;\n",
       "    }\n",
       "</style>\n",
       "<table border=\"1\" class=\"dataframe\">\n",
       "  <thead>\n",
       "    <tr style=\"text-align: right;\">\n",
       "      <th></th>\n",
       "      <th>x</th>\n",
       "      <th>t</th>\n",
       "      <th>z</th>\n",
       "    </tr>\n",
       "  </thead>\n",
       "  <tbody>\n",
       "    <tr>\n",
       "      <th>0</th>\n",
       "      <td>-50.0</td>\n",
       "      <td>0.0</td>\n",
       "      <td>0.000000e+00</td>\n",
       "    </tr>\n",
       "    <tr>\n",
       "      <th>1</th>\n",
       "      <td>-49.9</td>\n",
       "      <td>0.0</td>\n",
       "      <td>8.663659e-13</td>\n",
       "    </tr>\n",
       "    <tr>\n",
       "      <th>2</th>\n",
       "      <td>-49.8</td>\n",
       "      <td>0.0</td>\n",
       "      <td>9.566474e-13</td>\n",
       "    </tr>\n",
       "    <tr>\n",
       "      <th>3</th>\n",
       "      <td>-49.7</td>\n",
       "      <td>0.0</td>\n",
       "      <td>1.056721e-12</td>\n",
       "    </tr>\n",
       "    <tr>\n",
       "      <th>4</th>\n",
       "      <td>-49.6</td>\n",
       "      <td>0.0</td>\n",
       "      <td>1.167041e-12</td>\n",
       "    </tr>\n",
       "  </tbody>\n",
       "</table>\n",
       "</div>"
      ],
      "text/plain": [
       "      x    t             z\n",
       "0 -50.0  0.0  0.000000e+00\n",
       "1 -49.9  0.0  8.663659e-13\n",
       "2 -49.8  0.0  9.566474e-13\n",
       "3 -49.7  0.0  1.056721e-12\n",
       "4 -49.6  0.0  1.167041e-12"
      ]
     },
     "execution_count": 54,
     "metadata": {},
     "output_type": "execute_result"
    }
   ],
   "source": [
    "df.columns = ['x', 't', 'z']\n",
    "df.head()"
   ]
  },
  {
   "cell_type": "code",
   "execution_count": 55,
   "id": "cc906774-9e36-40f4-b310-d061f108f242",
   "metadata": {},
   "outputs": [
    {
     "data": {
      "image/png": "[encoded data removed]",
      "text/plain": [
       "<Figure size 800x600 with 2 Axes>"
      ]
     },
     "metadata": {},
     "output_type": "display_data"
    }
   ],
   "source": [
    "# Pivot the data to create a grid\n",
    "pivot_table = df.pivot(index='t', columns='x', values='z')\n",
    "\n",
    "# Convert the pivot table to a numpy array\n",
    "z_grid = pivot_table.values\n",
    "x_unique = pivot_table.columns.values\n",
    "t_unique = pivot_table.index.values\n",
    "\n",
    "# Create the plot\n",
    "figure(figsize=(8, 6))\n",
    "\n",
    "# Create the pcolormesh plot\n",
    "pcolormesh(x_unique, t_unique, z_grid, shading='auto', cmap='viridis')\n",
    "#pcolormesh(x, t, z, shading='auto', cmap='viridis')\n",
    "# Add color bar\n",
    "colorbar(label='z value')\n",
    "\n",
    "# Set axis labels\n",
    "xlabel('x')\n",
    "ylabel('t')\n",
    "xlim(-50,50)\n",
    "ylim(0,624)\n",
    "\n",
    "# Display the plot\n",
    "savefig(\"density profile nstp.pdf\")\n",
    "plt.show()"
   ]
  },
  {
   "cell_type": "code",
   "execution_count": null,
   "id": "08884664-1549-495a-b7c5-b8521f3097ea",
   "metadata": {},
   "outputs": [],
   "source": []
  },
  {
   "cell_type": "code",
   "execution_count": null,
   "id": "88a3fef2-37a5-4475-8081-bb682e1d2a84",
   "metadata": {},
   "outputs": [],
   "source": []
  }
 ],
 "metadata": {
  "kernelspec": {
   "display_name": "Python 3 (ipykernel)",
   "language": "python",
   "name": "python3"
  },
  "language_info": {
   "codemirror_mode": {
    "name": "ipython",
    "version": 3
   },
   "file_extension": ".py",
   "mimetype": "text/x-python",
   "name": "python",
   "nbconvert_exporter": "python",
   "pygments_lexer": "ipython3",
   "version": "3.12.4"
  }
 },
 "nbformat": 4,
 "nbformat_minor": 5
}
